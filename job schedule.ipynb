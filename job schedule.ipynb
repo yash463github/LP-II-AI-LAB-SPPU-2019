{
 "cells": [
  {
   "cell_type": "code",
   "execution_count": 1,
   "id": "ccb2160d",
   "metadata": {},
   "outputs": [
    {
     "name": "stdout",
     "output_type": "stream",
     "text": [
      "Enter the number of jobs: 3\n",
      "Enter name of job 1: testor\n",
      "Enter duration of job 1 (in minutes): 45\n",
      "Enter name of job 2: debugger\n",
      "Enter duration of job 2 (in minutes): 30\n",
      "Enter name of job 3: developer\n",
      "Enter duration of job 3 (in minutes): 120\n",
      "\n",
      "Scheduled Jobs:\n",
      "debugger: 30 minutes\n",
      "testor: 45 minutes\n",
      "developer: 120 minutes\n"
     ]
    }
   ],
   "source": [
    "def schedule_jobs():\n",
    "    num_jobs = int(input(\"Enter the number of jobs: \"))\n",
    "    \n",
    "    jobs = {}\n",
    "    \n",
    "    for i in range(num_jobs):\n",
    "        job_name = input(f\"Enter name of job {i+1}: \")\n",
    "        job_duration = int(input(f\"Enter duration of job {i+1} (in minutes): \"))\n",
    "        jobs[job_name] = job_duration\n",
    "    \n",
    "    sorted_jobs = dict(sorted(jobs.items(), key=lambda x: x[1]))\n",
    "    \n",
    "    print(\"\\nScheduled Jobs:\")\n",
    "    \n",
    "    for job, duration in sorted_jobs.items():\n",
    "        print(f\"{job}: {duration} minutes\")\n",
    "\n",
    "# Call the function to schedule jobs\n",
    "schedule_jobs()\n"
   ]
  },
  {
   "cell_type": "code",
   "execution_count": null,
   "id": "dbc43bae",
   "metadata": {},
   "outputs": [],
   "source": []
  }
 ],
 "metadata": {
  "kernelspec": {
   "display_name": "Python 3 (ipykernel)",
   "language": "python",
   "name": "python3"
  },
  "language_info": {
   "codemirror_mode": {
    "name": "ipython",
    "version": 3
   },
   "file_extension": ".py",
   "mimetype": "text/x-python",
   "name": "python",
   "nbconvert_exporter": "python",
   "pygments_lexer": "ipython3",
   "version": "3.11.5"
  }
 },
 "nbformat": 4,
 "nbformat_minor": 5
}
