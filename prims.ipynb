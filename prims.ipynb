{
 "cells": [
  {
   "cell_type": "code",
   "execution_count": 2,
   "id": "18bdea84",
   "metadata": {},
   "outputs": [
    {
     "name": "stdout",
     "output_type": "stream",
     "text": [
      "Enter no. of vertices: 0\n"
     ]
    },
    {
     "ename": "IndexError",
     "evalue": "list assignment index out of range",
     "output_type": "error",
     "traceback": [
      "\u001b[1;31m---------------------------------------------------------------------------\u001b[0m",
      "\u001b[1;31mIndexError\u001b[0m                                Traceback (most recent call last)",
      "Cell \u001b[1;32mIn[2], line 12\u001b[0m\n\u001b[0;32m      9\u001b[0m             cost[i][j] \u001b[38;5;241m=\u001b[39m \u001b[38;5;28mint\u001b[39m(\u001b[38;5;28minput\u001b[39m(\u001b[38;5;124m\"\u001b[39m\u001b[38;5;124mEnter weight: \u001b[39m\u001b[38;5;124m\"\u001b[39m))\n\u001b[0;32m     10\u001b[0m             cost[j][i] \u001b[38;5;241m=\u001b[39m cost[i][j]\n\u001b[1;32m---> 12\u001b[0m visit[\u001b[38;5;241m0\u001b[39m] \u001b[38;5;241m=\u001b[39m \u001b[38;5;241m1\u001b[39m\n\u001b[0;32m     13\u001b[0m mincost \u001b[38;5;241m=\u001b[39m \u001b[38;5;241m0\u001b[39m\n\u001b[0;32m     15\u001b[0m \u001b[38;5;28;01mfor\u001b[39;00m k \u001b[38;5;129;01min\u001b[39;00m \u001b[38;5;28mrange\u001b[39m(n \u001b[38;5;241m-\u001b[39m \u001b[38;5;241m1\u001b[39m):\n",
      "\u001b[1;31mIndexError\u001b[0m: list assignment index out of range"
     ]
    }
   ],
   "source": [
    "n = int(input(\"Enter no. of vertices: \"))\n",
    "cost = [[-1 for _ in range(n)] for _ in range(n)]\n",
    "visit = [0] * n\n",
    "\n",
    "for i in range(n):\n",
    "    for j in range(i+1, n):\n",
    "        op = input(f\"Do you want an edge between {i+1} and {j+1}: \")\n",
    "        if op.lower() == 'y':\n",
    "            cost[i][j] = int(input(\"Enter weight: \"))\n",
    "            cost[j][i] = cost[i][j]\n",
    "\n",
    "visit[0] = 1\n",
    "mincost = 0\n",
    "\n",
    "for k in range(n - 1):\n",
    "    _min = float('inf')\n",
    "    for i in range(n):\n",
    "        for j in range(n):\n",
    "            if visit[i] == 1 and visit[j] == 0:\n",
    "                if cost[i][j] != -1 and _min > cost[i][j]:\n",
    "                    _min = cost[i][j]\n",
    "                    row = i\n",
    "                    col = j\n",
    "\n",
    "    mincost += _min\n",
    "    visit[col] = 1\n",
    "    cost[row][col] = cost[col][row] = -1\n",
    "    print(f\"{row + 1}->{col + 1}\")\n",
    "\n",
    "print(f\"\\nMin. Cost: {mincost}\")\n",
    "\n",
    "#Enter no. of vertices: 5\n",
    "#Do you want an edge between 1 and 2: y\n",
    "#Enter weight: 7\n",
    "#Do you want an edge between 1 and 3: y\n",
    "#Enter weight: 3\n",
    "#Do you want an edge between 1 and 4: y\n",
    "#Enter weight: 12\n",
    "#Do you want an edge between 1 and 5: n\n",
    "#Do you want an edge between 2 and 3: n\n",
    "#Do you want an edge between 2 and 4: n\n",
    "#Do you want an edge between 2 and 5: y\n",
    "#Enter weight: 9\n",
    "#Do you want an edge between 3 and 4: n\n",
    "#Do you want an edge between 3 and 5: y\n",
    "#Enter weight: 7\n",
    "#Do you want an edge between 4 and 5: y\n",
    "#Enter weight: 5\n",
    "#1->3\n",
    "#1->2\n",
    "#3->5\n",
    "#5->4\n",
    "\n",
    "#Min. Cost: 22"
   ]
  },
  {
   "cell_type": "code",
   "execution_count": null,
   "id": "85cbc6db",
   "metadata": {},
   "outputs": [],
   "source": []
  }
 ],
 "metadata": {
  "kernelspec": {
   "display_name": "Python 3 (ipykernel)",
   "language": "python",
   "name": "python3"
  },
  "language_info": {
   "codemirror_mode": {
    "name": "ipython",
    "version": 3
   },
   "file_extension": ".py",
   "mimetype": "text/x-python",
   "name": "python",
   "nbconvert_exporter": "python",
   "pygments_lexer": "ipython3",
   "version": "3.11.5"
  }
 },
 "nbformat": 4,
 "nbformat_minor": 5
}
