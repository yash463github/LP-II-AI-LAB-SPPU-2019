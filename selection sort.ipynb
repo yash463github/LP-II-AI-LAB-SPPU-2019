{
 "cells": [
  {
   "cell_type": "code",
   "execution_count": 1,
   "id": "c025c4d2",
   "metadata": {},
   "outputs": [
    {
     "name": "stdout",
     "output_type": "stream",
     "text": [
      "Enter the elements of the array separated by space: 64 24 32 26 18\n",
      "Step 1: [18, 24, 32, 26, 64]\n",
      "Step 2: [18, 24, 32, 26, 64]\n",
      "Step 3: [18, 24, 26, 32, 64]\n",
      "Step 4: [18, 24, 26, 32, 64]\n",
      "Step 5: [18, 24, 26, 32, 64]\n",
      "Sorted array: [18, 24, 26, 32, 64]\n"
     ]
    }
   ],
   "source": [
    "def selection_sort(arr):\n",
    "    n = len(arr)\n",
    "    for i in range(n):\n",
    "        min_idx = i\n",
    "        for j in range(i+1, n):\n",
    "            if arr[j] < arr[min_idx]:\n",
    "                min_idx = j\n",
    "        arr[i], arr[min_idx] = arr[min_idx], arr[i]\n",
    "        print(f\"Step {i+1}: {arr}\")\n",
    "\n",
    "    return arr\n",
    "\n",
    "def main():\n",
    "    # Taking input from the user\n",
    "    input_string = input(\"Enter the elements of the array separated by space: \")\n",
    "    arr = list(map(int, input_string.split()))\n",
    "\n",
    "    # Sorting the array using selection sort\n",
    "    sorted_arr = selection_sort(arr)\n",
    "    print(\"Sorted array:\", sorted_arr)\n",
    "\n",
    "if __name__ == \"__main__\":\n",
    "    main()\n"
   ]
  },
  {
   "cell_type": "code",
   "execution_count": null,
   "id": "00d62b54",
   "metadata": {},
   "outputs": [],
   "source": []
  }
 ],
 "metadata": {
  "kernelspec": {
   "display_name": "Python 3 (ipykernel)",
   "language": "python",
   "name": "python3"
  },
  "language_info": {
   "codemirror_mode": {
    "name": "ipython",
    "version": 3
   },
   "file_extension": ".py",
   "mimetype": "text/x-python",
   "name": "python",
   "nbconvert_exporter": "python",
   "pygments_lexer": "ipython3",
   "version": "3.11.5"
  }
 },
 "nbformat": 4,
 "nbformat_minor": 5
}
