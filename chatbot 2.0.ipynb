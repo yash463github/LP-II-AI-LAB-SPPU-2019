{
 "cells": [
  {
   "cell_type": "code",
   "execution_count": 2,
   "id": "685957b7",
   "metadata": {},
   "outputs": [
    {
     "name": "stdout",
     "output_type": "stream",
     "text": [
      "Collecting pyspellcheckerNote: you may need to restart the kernel to use updated packages.\n",
      "\n",
      "  Downloading pyspellchecker-0.8.1-py3-none-any.whl.metadata (9.4 kB)\n",
      "Downloading pyspellchecker-0.8.1-py3-none-any.whl (6.8 MB)\n",
      "   ---------------------------------------- 0.0/6.8 MB ? eta -:--:--\n",
      "   ---------------------------------------- 0.0/6.8 MB ? eta -:--:--\n",
      "    --------------------------------------- 0.1/6.8 MB 1.4 MB/s eta 0:00:05\n",
      "   - -------------------------------------- 0.3/6.8 MB 2.5 MB/s eta 0:00:03\n",
      "   --- ------------------------------------ 0.5/6.8 MB 3.3 MB/s eta 0:00:02\n",
      "   ----- ---------------------------------- 1.0/6.8 MB 4.9 MB/s eta 0:00:02\n",
      "   -------- ------------------------------- 1.5/6.8 MB 6.3 MB/s eta 0:00:01\n",
      "   ---------- ----------------------------- 1.7/6.8 MB 6.9 MB/s eta 0:00:01\n",
      "   ---------- ----------------------------- 1.7/6.8 MB 6.9 MB/s eta 0:00:01\n",
      "   -------------- ------------------------- 2.5/6.8 MB 6.9 MB/s eta 0:00:01\n",
      "   -------------------- ------------------- 3.4/6.8 MB 8.6 MB/s eta 0:00:01\n",
      "   ---------------------- ----------------- 3.9/6.8 MB 8.8 MB/s eta 0:00:01\n",
      "   ------------------------- -------------- 4.3/6.8 MB 8.9 MB/s eta 0:00:01\n",
      "   ---------------------------- ----------- 4.8/6.8 MB 9.3 MB/s eta 0:00:01\n",
      "   ------------------------------- -------- 5.3/6.8 MB 9.4 MB/s eta 0:00:01\n",
      "   --------------------------------- ------ 5.8/6.8 MB 9.7 MB/s eta 0:00:01\n",
      "   ------------------------------------ --- 6.2/6.8 MB 9.7 MB/s eta 0:00:01\n",
      "   ---------------------------------------  6.7/6.8 MB 10.0 MB/s eta 0:00:01\n",
      "   ---------------------------------------- 6.8/6.8 MB 9.6 MB/s eta 0:00:00\n",
      "Installing collected packages: pyspellchecker\n",
      "Successfully installed pyspellchecker-0.8.1\n"
     ]
    }
   ],
   "source": [
    "pip install pyspellchecker"
   ]
  },
  {
   "cell_type": "code",
   "execution_count": null,
   "id": "02728629",
   "metadata": {},
   "outputs": [
    {
     "name": "stdout",
     "output_type": "stream",
     "text": [
      "E-commerce Chatbot: Hi there! How can I assist you today? Type 'bye' to end the conversation.\n"
     ]
    },
    {
     "name": "stdin",
     "output_type": "stream",
     "text": [
      "You:  hi\n"
     ]
    },
    {
     "name": "stdout",
     "output_type": "stream",
     "text": [
      "E-commerce Chatbot: I'm still learning. Could you try asking in a different way?\n"
     ]
    },
    {
     "name": "stdin",
     "output_type": "stream",
     "text": [
      "You:  hello\n"
     ]
    },
    {
     "name": "stdout",
     "output_type": "stream",
     "text": [
      "E-commerce Chatbot: Hi there! How can I help you today?\n"
     ]
    },
    {
     "name": "stdin",
     "output_type": "stream",
     "text": [
      "You:  what are products available\n"
     ]
    },
    {
     "name": "stdout",
     "output_type": "stream",
     "text": [
      "E-commerce Chatbot: Step into Style: Unveiling Fashion for Every Footstep – Explore Our Latest Footwear Collection!\n"
     ]
    },
    {
     "name": "stdin",
     "output_type": "stream",
     "text": [
      "You:  payment facilities\n"
     ]
    },
    {
     "name": "stdout",
     "output_type": "stream",
     "text": [
      "E-commerce Chatbot: We accept various payment methods including credit cards, PayPal, and more. What payment method are you considering?\n"
     ]
    },
    {
     "name": "stdin",
     "output_type": "stream",
     "text": [
      "You:  shipping\n"
     ]
    },
    {
     "name": "stdout",
     "output_type": "stream",
     "text": [
      "E-commerce Chatbot: Shipping usually takes 3-5 business days. If you need it faster, we provide express shipping. What would you prefer?\n"
     ]
    }
   ],
   "source": [
    "import random\n",
    "from spellchecker import SpellChecker\n",
    "\n",
    "spell = SpellChecker()\n",
    "\n",
    "def correct_spelling(input_text):\n",
    "    corrected_text = []\n",
    "    for word in input_text.split():\n",
    "        corrected_text.append(spell.correction(word))\n",
    "    return ' '.join(corrected_text)\n",
    "\n",
    "def get_user_input():\n",
    "    return correct_spelling(input(\"You: \")).lower()\n",
    "\n",
    "def e_commerce_chatbot():\n",
    "    responses = {\n",
    "        \"hello\": [\"Hi there! How can I help you today?\", \"Hello! What can I assist you with?\", \"Hey! What brings you here?\"],\n",
    "        \"bye\": [\"Goodbye! Have a great day.\", \"See you later! If you have more questions, feel free to ask.\", \"Bye!\"],\n",
    "        \"what are products available\": [\"Step into Style: Unveiling Fashion for Every Footstep – Explore Our Latest Footwear Collection!\"],\n",
    "        \"payment facilities\": [\"We accept various payment methods including credit cards, PayPal, and more. What payment method are you considering?\", \"Payment can be made through credit cards, PayPal, and other options. How would you like to pay?\"],\n",
    "        \"shipping\": [\"Our standard shipping takes 3-5 business days. We also offer express shipping for faster delivery. Do you have a preference?\", \"Shipping usually takes 3-5 business days. If you need it faster, we provide express shipping. What would you prefer?\"],\n",
    "        \"default\": [\"I'm sorry, I didn't understand that. Can you please rephrase or ask another question?\", \"I'm still learning. Could you try asking in a different way?\", \"I didn't catch that. Can you please provide more details?\"],\n",
    "    }\n",
    "\n",
    "    print(\"E-commerce Chatbot: Hi there! How can I assist you today? Type 'bye' to end the conversation.\")\n",
    "\n",
    "    while True:\n",
    "        user_input = get_user_input()\n",
    "\n",
    "        if user_input == 'bye':\n",
    "            print(\"E-commerce Chatbot: Goodbye! If you have more questions, feel free to ask later.\")\n",
    "            break\n",
    "\n",
    "        response = responses.get(user_input, responses[\"default\"])\n",
    "        print(f\"E-commerce Chatbot: {random.choice(response)}\")\n",
    "\n",
    "if __name__ == \"__main__\":\n",
    "    e_commerce_chatbot()\n"
   ]
  }
 ],
 "metadata": {
  "kernelspec": {
   "display_name": "Python 3 (ipykernel)",
   "language": "python",
   "name": "python3"
  },
  "language_info": {
   "codemirror_mode": {
    "name": "ipython",
    "version": 3
   },
   "file_extension": ".py",
   "mimetype": "text/x-python",
   "name": "python",
   "nbconvert_exporter": "python",
   "pygments_lexer": "ipython3",
   "version": "3.11.5"
  }
 },
 "nbformat": 4,
 "nbformat_minor": 5
}
