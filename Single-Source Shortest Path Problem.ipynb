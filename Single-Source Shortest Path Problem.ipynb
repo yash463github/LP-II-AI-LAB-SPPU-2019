{
 "cells": [
  {
   "cell_type": "code",
   "execution_count": 1,
   "id": "6192dc86",
   "metadata": {},
   "outputs": [
    {
     "name": "stdout",
     "output_type": "stream",
     "text": [
      "Enter the number of nodes: 7\n",
      "Enter the number of edges: 9\n",
      "Enter edges and weights in the format 'node neighbor weight': \n",
      "0 1 7\n",
      "0 2 9\n",
      "1 3 10\n",
      "1 4 15\n",
      "2 5 14\n",
      "2 6 2\n",
      "3 4 11\n",
      "4 5 9\n",
      "5 6 10\n",
      "Enter the start node: 0\n",
      "Shortest paths from node 0\n",
      "Node 0: distance = 0\n",
      "Node 1: distance = 7\n",
      "Node 2: distance = 9\n",
      "Node 3: distance = 17\n",
      "Node 4: distance = 22\n",
      "Node 5: distance = 23\n",
      "Node 6: distance = 11\n"
     ]
    }
   ],
   "source": [
    "import heapq\n",
    "\n",
    "def dijkstra(graph, start):\n",
    "    n = len(graph)\n",
    "    distances = [float('inf')] * n\n",
    "    distances[start] = 0\n",
    "    visited = [False] * n\n",
    "    heap = [(0, start)]\n",
    "\n",
    "    while heap:\n",
    "        dist, node = heapq.heappop(heap)\n",
    "        if visited[node]:\n",
    "            continue\n",
    "        visited[node] = True\n",
    "        for neighbor, weight in graph[node]:\n",
    "            if not visited[neighbor] and dist + weight < distances[neighbor]:\n",
    "                distances[neighbor] = dist + weight\n",
    "                heapq.heappush(heap, (distances[neighbor], neighbor))\n",
    "\n",
    "    return distances\n",
    "\n",
    "def main():\n",
    "    n = int(input(\"Enter the number of nodes: \"))\n",
    "    graph = [[] for _ in range(n)]\n",
    "\n",
    "    m = int(input(\"Enter the number of edges: \"))\n",
    "    print(\"Enter edges and weights in the format 'node neighbor weight': \")\n",
    "    for _ in range(m):\n",
    "        u, v, w = map(int, input().split())\n",
    "        graph[u].append((v, w))\n",
    "\n",
    "    start_node = int(input(\"Enter the start node: \"))\n",
    "    shortest_paths = dijkstra(graph, start_node)\n",
    "    print(\"Shortest paths from node\", start_node)\n",
    "    for i, distance in enumerate(shortest_paths):\n",
    "        print(f\"Node {i}: distance = {distance}\")\n",
    "\n",
    "if __name__ == \"__main__\":\n",
    "    main()\n"
   ]
  },
  {
   "cell_type": "code",
   "execution_count": null,
   "id": "d8a10a6b",
   "metadata": {},
   "outputs": [],
   "source": []
  }
 ],
 "metadata": {
  "kernelspec": {
   "display_name": "Python 3 (ipykernel)",
   "language": "python",
   "name": "python3"
  },
  "language_info": {
   "codemirror_mode": {
    "name": "ipython",
    "version": 3
   },
   "file_extension": ".py",
   "mimetype": "text/x-python",
   "name": "python",
   "nbconvert_exporter": "python",
   "pygments_lexer": "ipython3",
   "version": "3.11.5"
  }
 },
 "nbformat": 4,
 "nbformat_minor": 5
}
