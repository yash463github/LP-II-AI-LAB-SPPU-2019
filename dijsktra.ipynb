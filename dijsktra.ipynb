{
 "cells": [
  {
   "cell_type": "code",
   "execution_count": 4,
   "id": "ccc95949",
   "metadata": {},
   "outputs": [
    {
     "name": "stdout",
     "output_type": "stream",
     "text": [
      "Enter the number of edges: 5\n",
      "Enter edge and weight (u v weight): 1 2 4\n",
      "Enter edge and weight (u v weight): 1 3 2\n",
      "Enter edge and weight (u v weight): 2 3 5\n",
      "Enter edge and weight (u v weight): 2 4 10\n",
      "Enter edge and weight (u v weight): 3 4 3\n",
      "Enter the starting vertex: 1\n",
      "Shortest distances from vertex 1:\n",
      "To 1: 0\n",
      "To 2: 4\n",
      "To 3: 2\n",
      "To 4: 5\n"
     ]
    }
   ],
   "source": [
    "import heapq\n",
    "\n",
    "class Graph:\n",
    "    def __init__(self):\n",
    "        self.graph = {}\n",
    "\n",
    "    def add_edge(self, u, v, weight):\n",
    "        if u not in self.graph:\n",
    "            self.graph[u] = []\n",
    "        if v not in self.graph:\n",
    "            self.graph[v] = []\n",
    "        self.graph[u].append((v, weight))\n",
    "        self.graph[v].append((u, weight))\n",
    "\n",
    "    def dijkstra(self, start):\n",
    "        distances = {vertex: float('infinity') for vertex in self.graph}\n",
    "        distances[start] = 0\n",
    "        priority_queue = [(0, start)]\n",
    "\n",
    "        while priority_queue:\n",
    "            current_distance, current_vertex = heapq.heappop(priority_queue)\n",
    "            if current_distance > distances[current_vertex]:\n",
    "                continue\n",
    "            for neighbor, weight in self.graph[current_vertex]:\n",
    "                distance = current_distance + weight\n",
    "                if distance < distances[neighbor]:\n",
    "                    distances[neighbor] = distance\n",
    "                    heapq.heappush(priority_queue, (distance, neighbor))\n",
    "\n",
    "        return distances\n",
    "\n",
    "# Example usage:\n",
    "\n",
    "def main():\n",
    "    graph = Graph()\n",
    "\n",
    "    # Taking user input for edges and weights\n",
    "    num_edges = int(input(\"Enter the number of edges: \"))\n",
    "    for _ in range(num_edges):\n",
    "        u, v, weight = map(int, input(\"Enter edge and weight (u v weight): \").split())\n",
    "        graph.add_edge(u, v, weight)\n",
    "\n",
    "    start_vertex = int(input(\"Enter the starting vertex: \"))\n",
    "    shortest_distances = graph.dijkstra(start_vertex)\n",
    "\n",
    "    print(\"Shortest distances from vertex {}:\".format(start_vertex))\n",
    "    for vertex, distance in shortest_distances.items():\n",
    "        print(\"To {}: {}\".format(vertex, distance))\n",
    "\n",
    "if __name__ == \"__main__\":\n",
    "    main()\n",
    "    \n",
    "    \n",
    "#Enter the number of edges: 5\n",
    "#Enter edge and weight (u v weight): 1 2 4\n",
    "#Enter edge and weight (u v weight): 1 3 2\n",
    "#Enter edge and weight (u v weight): 2 3 5\n",
    "#Enter edge and weight (u v weight): 2 4 10\n",
    "#Enter edge and weight (u v weight): 3 4 3\n",
    "#Enter the starting vertex: 1\n"
   ]
  },
  {
   "cell_type": "code",
   "execution_count": null,
   "id": "deda0ff6",
   "metadata": {},
   "outputs": [],
   "source": []
  }
 ],
 "metadata": {
  "kernelspec": {
   "display_name": "Python 3 (ipykernel)",
   "language": "python",
   "name": "python3"
  },
  "language_info": {
   "codemirror_mode": {
    "name": "ipython",
    "version": 3
   },
   "file_extension": ".py",
   "mimetype": "text/x-python",
   "name": "python",
   "nbconvert_exporter": "python",
   "pygments_lexer": "ipython3",
   "version": "3.11.5"
  }
 },
 "nbformat": 4,
 "nbformat_minor": 5
}
